{
 "cells": [
  {
   "cell_type": "code",
   "execution_count": 302,
   "metadata": {
    "collapsed": false
   },
   "outputs": [],
   "source": [
    "import numpy as np\n",
    "from halotools.empirical_models import Zheng07\n",
    "import matplotlib.pyplot as plt\n",
    "import time\n",
    "from astropy.table import Table\n",
    "%matplotlib inline\n",
    "import plotting\n",
    "from scipy.stats import ks_2samp\n",
    "plotting.prettyplot()\n",
    "#plotting.prettycolors()"
   ]
  },
  {
   "cell_type": "code",
   "execution_count": 303,
   "metadata": {
    "collapsed": false
   },
   "outputs": [],
   "source": [
    "def richness(group_id): \n",
    "    gals = Table() \n",
    "    gals['groupid'] = group_id\n",
    "    gals['dummy'] = 1\n",
    "    grouped_table = gals.group_by('groupid')\n",
    "    grp_richness = grouped_table['dummy'].groups.aggregate(np.sum)\n",
    "    return grp_richness"
   ]
  },
  {
   "cell_type": "code",
   "execution_count": 304,
   "metadata": {
    "collapsed": false
   },
   "outputs": [
    {
     "name": "stdout",
     "output_type": "stream",
     "text": [
      "{'logM0': 11.92, 'sigma_logM': 0.39, 'logMmin': 12.79, 'alpha': 1.15, 'logM1': 13.94}\n",
      "{'logM0': 11.92, 'sigma_logM': 0.39, 'logMmin': 12.79, 'alpha': 1.15, 'logM1': 13.94}\n"
     ]
    }
   ],
   "source": [
    "model1 = Zheng07(threshold = -21.0)\n",
    "model2 = Zheng07(threshold = -21.0)\n",
    "print model1.param_dict\n",
    "print model2.param_dict"
   ]
  },
  {
   "cell_type": "code",
   "execution_count": 305,
   "metadata": {
    "collapsed": false
   },
   "outputs": [],
   "source": [
    "model2.param_dict['logM1'] = 13.5"
   ]
  },
  {
   "cell_type": "code",
   "execution_count": 296,
   "metadata": {
    "collapsed": true
   },
   "outputs": [],
   "source": [
    "model2.populate_mock()\n",
    "model1.populate_mock()\n",
    "group_id1 = model1.mock.compute_fof_group_ids()\n",
    "group_richness1 = richness(group_id1)\n",
    "group_id2 = model2.mock.compute_fof_group_ids()\n",
    "group_richness2 = richness(group_id2)"
   ]
  },
  {
   "cell_type": "code",
   "execution_count": 298,
   "metadata": {
    "collapsed": false
   },
   "outputs": [
    {
     "data": {
      "text/plain": [
       "<matplotlib.text.Text at 0x7f1b1f033e10>"
      ]
     },
     "execution_count": 298,
     "metadata": {},
     "output_type": "execute_result"
    },
    {
     "data": {
      "image/png": "[encoded data removed]",
      "text/plain": [
       "<matplotlib.figure.Figure at 0x7f1b1afa30d0>"
      ]
     },
     "metadata": {},
     "output_type": "display_data"
    }
   ],
   "source": [
    "d2 , _ , _  = plt.hist(group_richness2 , bins = 10 ,facecolor='k', alpha=0.15)\n",
    "plt.yscale(\"log\")\n",
    "plt.xscale(\"log\")\n",
    "plt.xlim((1,200))\n",
    "plt.xlabel(\"Group Richness\")\n",
    "plt.ylabel(\"Richness Abundance\")\n",
    "plt.title(\"Wrong HOD Model\")"
   ]
  },
  {
   "cell_type": "code",
   "execution_count": 299,
   "metadata": {
    "collapsed": false
   },
   "outputs": [
    {
     "data": {
      "text/plain": [
       "<matplotlib.text.Text at 0x7f1b1c462d50>"
      ]
     },
     "execution_count": 299,
     "metadata": {},
     "output_type": "execute_result"
    },
    {
     "data": {
      "image/png": "[encoded data removed]",
      "text/plain": [
       "<matplotlib.figure.Figure at 0x7f1b1ee213d0>"
      ]
     },
     "metadata": {},
     "output_type": "display_data"
    }
   ],
   "source": [
    "d1 , _ , _ = plt.hist(group_richness1 , bins = 10 , facecolor='green', alpha=0.15)\n",
    "plt.yscale(\"log\")\n",
    "plt.xscale(\"log\")\n",
    "plt.xlim((1,200))\n",
    "plt.xlabel(\"Group Richness\")\n",
    "plt.ylabel(\"Richness Abundance\")\n",
    "plt.title(\"True HOD Model\")"
   ]
  },
  {
   "cell_type": "code",
   "execution_count": 306,
   "metadata": {
    "collapsed": false
   },
   "outputs": [
    {
     "name": "stdout",
     "output_type": "stream",
     "text": [
      "(0.10000000000000009, 0.9999999942894181)\n",
      "(0.080804942744483355, 3.2020568063917071e-26)\n"
     ]
    }
   ],
   "source": [
    "print ks_2samp(d1[:] , d2[:])\n",
    "print ks_2samp(group_richness1 , group_richness2)"
   ]
  },
  {
   "cell_type": "markdown",
   "metadata": {},
   "source": [
    "Binned Richness is not a good summary statistic for Kolomogrov Smirnov distance function!"
   ]
  },
  {
   "cell_type": "code",
   "execution_count": 307,
   "metadata": {
    "collapsed": false
   },
   "outputs": [],
   "source": [
    "hist_bins = np.arange(1,100000)"
   ]
  },
  {
   "cell_type": "code",
   "execution_count": 317,
   "metadata": {
    "collapsed": false
   },
   "outputs": [],
   "source": [
    "model1.populate_mock()\n",
    "group_id_a = model1.mock.compute_fof_group_ids()\n",
    "gr_a = richness(group_id_a)\n",
    "\n",
    "hist1 = np.histogram(gr_a , bins = hist_bins)"
   ]
  },
  {
   "cell_type": "code",
   "execution_count": 318,
   "metadata": {
    "collapsed": false
   },
   "outputs": [],
   "source": [
    "model1.populate_mock()\n",
    "group_id_b = model1.mock.compute_fof_group_ids()\n",
    "gr_b = richness(group_id_b)\n",
    "\n",
    "hist2 = np.histogram(gr_b , bins = hist_bins)"
   ]
  },
  {
   "cell_type": "code",
   "execution_count": 319,
   "metadata": {
    "collapsed": false
   },
   "outputs": [
    {
     "data": {
      "image/png": "[encoded data removed]",
      "text/plain": [
       "<matplotlib.figure.Figure at 0x7f1b1934c9d0>"
      ]
     },
     "metadata": {},
     "output_type": "display_data"
    }
   ],
   "source": [
    "plt.hist(gr_a , bins = 20)\n",
    "plt.xlim((1,40))\n",
    "plt.yscale(\"log\")"
   ]
  },
  {
   "cell_type": "code",
   "execution_count": 320,
   "metadata": {
    "collapsed": false
   },
   "outputs": [
    {
     "data": {
      "image/png": "[encoded data removed]",
      "text/plain": [
       "<matplotlib.figure.Figure at 0x7f1b193a6490>"
      ]
     },
     "metadata": {},
     "output_type": "display_data"
    }
   ],
   "source": [
    "plt.hist(gr_b , bins = 20)\n",
    "plt.xlim((1,40))\n",
    "plt.yscale(\"log\")"
   ]
  },
  {
   "cell_type": "code",
   "execution_count": 326,
   "metadata": {
    "collapsed": false
   },
   "outputs": [
    {
     "name": "stdout",
     "output_type": "stream",
     "text": [
      "(99998,)\n",
      "dummy\n",
      "-----\n",
      "    5\n",
      "   14\n",
      "    2\n",
      "    4\n",
      "    9\n",
      "    5\n",
      "    1\n",
      "    3\n",
      "    6\n",
      "    2\n",
      "  ...\n",
      "    1\n",
      "    1\n",
      "    1\n",
      "    1\n",
      "    1\n",
      "    1\n",
      "    1\n",
      "    1\n",
      "    1\n",
      "    1\n",
      "    1\n",
      "Length = 8553 rows\n"
     ]
    }
   ],
   "source": [
    "gr_mean = (hist1[0] + hist2[0])/2.\n",
    "print gr_mean.shape\n",
    "print gr_a"
   ]
  },
  {
   "cell_type": "code",
   "execution_count": 334,
   "metadata": {
    "collapsed": false
   },
   "outputs": [
    {
     "data": {
      "image/png": "[encoded data removed]",
      "text/plain": [
       "<matplotlib.figure.Figure at 0x7f1b18e64810>"
      ]
     },
     "metadata": {},
     "output_type": "display_data"
    }
   ],
   "source": [
    "plt.plot(gr_mean)\n",
    "\n",
    "plt.xlim((1,100))\n",
    "plt.yscale(\"log\")\n",
    "plt.xscale(\"log\")"
   ]
  },
  {
   "cell_type": "code",
   "execution_count": null,
   "metadata": {
    "collapsed": true
   },
   "outputs": [],
   "source": []
  }
 ],
 "metadata": {
  "kernelspec": {
   "display_name": "Python 2",
   "language": "python",
   "name": "python2"
  },
  "language_info": {
   "codemirror_mode": {
    "name": "ipython",
    "version": 2
   },
   "file_extension": ".py",
   "mimetype": "text/x-python",
   "name": "python",
   "nbconvert_exporter": "python",
   "pygments_lexer": "ipython2",
   "version": "2.7.9"
  }
 },
 "nbformat": 4,
 "nbformat_minor": 0
}
