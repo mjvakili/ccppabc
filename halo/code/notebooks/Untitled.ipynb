{
 "cells": [
  {
   "cell_type": "code",
   "execution_count": 711,
   "metadata": {
    "collapsed": false
   },
   "outputs": [
    {
     "name": "stdout",
     "output_type": "stream",
     "text": [
      "Populating the interactive namespace from numpy and matplotlib\n"
     ]
    },
    {
     "name": "stderr",
     "output_type": "stream",
     "text": [
      "WARNING: pylab import has clobbered these variables: ['plotting', 'figure', 'pylab', 'pi']\n",
      "`%matplotlib` prevents importing * from pylab and numpy\n"
     ]
    }
   ],
   "source": [
    "import pylab\n",
    "import numpy as np\n",
    "%pylab inline\n",
    "from halotools.empirical_models import Zheng07 , model_defaults\n",
    "from astropy.table import Table\n",
    "import plotting\n",
    "from plotting import prettyplot\n",
    "prettyplot()"
   ]
  },
  {
   "cell_type": "code",
   "execution_count": 587,
   "metadata": {
    "collapsed": false
   },
   "outputs": [
    {
     "data": {
      "text/plain": [
       "{'alpha': 1.15,\n",
       " 'logM0': 11.92,\n",
       " 'logM1': 13.94,\n",
       " 'logMmin': 12.79,\n",
       " 'sigma_logM': 0.39}"
      ]
     },
     "execution_count": 587,
     "metadata": {},
     "output_type": "execute_result"
    }
   ],
   "source": [
    "model = Zheng07(threshold = -21)\n",
    "data = np.loadtxt(\"richness.dat\")\n",
    "model.param_dict"
   ]
  },
  {
   "cell_type": "code",
   "execution_count": 588,
   "metadata": {
    "collapsed": false
   },
   "outputs": [],
   "source": [
    "def richness(group_id):\n",
    "    gals = Table()\n",
    "    gals['groupid'] = group_id\n",
    "    gals['dummy'] = 1\n",
    "    grouped_table = gals.group_by('groupid')\n",
    "    grp_richness = grouped_table['dummy'].groups.aggregate(np.sum)\n",
    "    return grp_richness"
   ]
  },
  {
   "cell_type": "code",
   "execution_count": 232,
   "metadata": {
    "collapsed": true
   },
   "outputs": [],
   "source": [
    "model2 = Zheng07(threshold=-21)\n",
    "model2.param_dict[\"logM0\"] = 12.1"
   ]
  },
  {
   "cell_type": "code",
   "execution_count": 233,
   "metadata": {
    "collapsed": true
   },
   "outputs": [],
   "source": [
    "model.populate_mock()\n",
    "model2.populate_mock()"
   ]
  },
  {
   "cell_type": "code",
   "execution_count": 234,
   "metadata": {
    "collapsed": false
   },
   "outputs": [],
   "source": [
    "g2 = model2.mock.compute_fof_group_ids()\n",
    "g1 = model.mock.compute_fof_group_ids()"
   ]
  },
  {
   "cell_type": "code",
   "execution_count": 589,
   "metadata": {
    "collapsed": false
   },
   "outputs": [],
   "source": [
    "bins = np.arange(1,61,1)"
   ]
  },
  {
   "cell_type": "code",
   "execution_count": 590,
   "metadata": {
    "collapsed": false
   },
   "outputs": [
    {
     "data": {
      "text/plain": [
       "(array([5830, 1542,  560,  253,  135,   73,   44,   37,   18,   18,   13,\n",
       "           9,    3,    4,    4,    3,    3,    2,    1,    2,    2,    1,\n",
       "           1,    0,    0,    0,    1,    1,    0,    0,    0,    0,    0,\n",
       "           0,    0,    0,    0,    0,    0,    0,    0,    0,    0,    0,\n",
       "           0,    0,    0,    0,    0,    0,    0,    0,    0,    0,    0,\n",
       "           0,    0,    0,    0]),\n",
       " array([ 1,  2,  3,  4,  5,  6,  7,  8,  9, 10, 11, 12, 13, 14, 15, 16, 17,\n",
       "        18, 19, 20, 21, 22, 23, 24, 25, 26, 27, 28, 29, 30, 31, 32, 33, 34,\n",
       "        35, 36, 37, 38, 39, 40, 41, 42, 43, 44, 45, 46, 47, 48, 49, 50, 51,\n",
       "        52, 53, 54, 55, 56, 57, 58, 59, 60]))"
      ]
     },
     "execution_count": 590,
     "metadata": {},
     "output_type": "execute_result"
    }
   ],
   "source": [
    "np.histogram(data,bins)"
   ]
  },
  {
   "cell_type": "code",
   "execution_count": 221,
   "metadata": {
    "collapsed": false
   },
   "outputs": [
    {
     "data": {
      "image/png": "[encoded data removed]",
      "text/plain": [
       "<matplotlib.figure.Figure at 0x7fb6f8b99610>"
      ]
     },
     "metadata": {},
     "output_type": "display_data"
    }
   ],
   "source": [
    "x = plt.hist(data , bins , normed=\"True\")[0]\n"
   ]
  },
  {
   "cell_type": "code",
   "execution_count": 269,
   "metadata": {
    "collapsed": false
   },
   "outputs": [
    {
     "name": "stdout",
     "output_type": "stream",
     "text": [
      "(59,)\n"
     ]
    },
    {
     "data": {
      "text/plain": [
       "(array([  6.81074766e-01,   1.80140187e-01,   6.54205607e-02,\n",
       "          2.95560748e-02,   1.57710280e-02,   8.52803738e-03,\n",
       "          5.14018692e-03,   4.32242991e-03,   2.10280374e-03,\n",
       "          2.10280374e-03,   1.51869159e-03,   1.05140187e-03,\n",
       "          3.50467290e-04,   4.67289720e-04,   4.67289720e-04,\n",
       "          3.50467290e-04,   3.50467290e-04,   2.33644860e-04,\n",
       "          1.16822430e-04,   2.33644860e-04,   2.33644860e-04,\n",
       "          1.16822430e-04,   1.16822430e-04,   0.00000000e+00,\n",
       "          0.00000000e+00,   0.00000000e+00,   1.16822430e-04,\n",
       "          1.16822430e-04,   0.00000000e+00,   0.00000000e+00,\n",
       "          0.00000000e+00,   0.00000000e+00,   0.00000000e+00,\n",
       "          0.00000000e+00,   0.00000000e+00,   0.00000000e+00,\n",
       "          0.00000000e+00,   0.00000000e+00,   0.00000000e+00,\n",
       "          0.00000000e+00,   0.00000000e+00,   0.00000000e+00,\n",
       "          0.00000000e+00,   0.00000000e+00,   0.00000000e+00,\n",
       "          0.00000000e+00,   0.00000000e+00,   0.00000000e+00,\n",
       "          0.00000000e+00,   0.00000000e+00,   0.00000000e+00,\n",
       "          0.00000000e+00,   0.00000000e+00,   0.00000000e+00,\n",
       "          0.00000000e+00,   0.00000000e+00,   0.00000000e+00,\n",
       "          0.00000000e+00,   0.00000000e+00]),\n",
       " array([ 1,  2,  3,  4,  5,  6,  7,  8,  9, 10, 11, 12, 13, 14, 15, 16, 17,\n",
       "        18, 19, 20, 21, 22, 23, 24, 25, 26, 27, 28, 29, 30, 31, 32, 33, 34,\n",
       "        35, 36, 37, 38, 39, 40, 41, 42, 43, 44, 45, 46, 47, 48, 49, 50, 51,\n",
       "        52, 53, 54, 55, 56, 57, 58, 59, 60]))"
      ]
     },
     "execution_count": 269,
     "metadata": {},
     "output_type": "execute_result"
    },
    {
     "data": {
      "image/png": "[encoded data removed]",
      "text/plain": [
       "<matplotlib.figure.Figure at 0x7fb6e76d0150>"
      ]
     },
     "metadata": {},
     "output_type": "display_data"
    }
   ],
   "source": [
    "y = np.histogram(richness(g2),bins , normed=\"True\")[0]\n",
    "yy = plt.hist(richness(g2),bins , normed=\"True\")[0]\n",
    "print yy.shape\n",
    "z = plt.hist(richness(g1),bins , normed=\"True\" , color = \"r\" , alpha = .5)[0]\n",
    "np.histogram(data,bins,normed=\"True\")"
   ]
  },
  {
   "cell_type": "code",
   "execution_count": null,
   "metadata": {
    "collapsed": false
   },
   "outputs": [],
   "source": []
  },
  {
   "cell_type": "code",
   "execution_count": 264,
   "metadata": {
    "collapsed": false
   },
   "outputs": [],
   "source": [
    "list_r = []\n",
    "model = Zheng07(threshold = -21)\n",
    "for i in xrange(100):\n",
    "    model.populate_mock()\n",
    "    gid = model.mock.compute_fof_group_ids()\n",
    "    x = np.histogram(richness(gid),bins , normed=\"True\")[0]\n",
    "    list_r.append(x)\n",
    "    "
   ]
  },
  {
   "cell_type": "code",
   "execution_count": 270,
   "metadata": {
    "collapsed": false
   },
   "outputs": [
    {
     "name": "stdout",
     "output_type": "stream",
     "text": [
      "(100, 59)\n"
     ]
    },
    {
     "data": {
      "text/plain": [
       "<matplotlib.colorbar.Colorbar instance at 0x7fb6fd3df1b8>"
      ]
     },
     "execution_count": 270,
     "metadata": {},
     "output_type": "execute_result"
    },
    {
     "data": {
      "image/png": "[encoded data removed]",
      "text/plain": [
       "<matplotlib.figure.Figure at 0x7fb6fbce7c10>"
      ]
     },
     "metadata": {},
     "output_type": "display_data"
    }
   ],
   "source": [
    "d_r = np.array(list_r)\n",
    "print d_r.shape\n",
    "plt.pcolor(d_r)\n",
    "plt.colorbar()"
   ]
  },
  {
   "cell_type": "code",
   "execution_count": null,
   "metadata": {
    "collapsed": false
   },
   "outputs": [],
   "source": []
  },
  {
   "cell_type": "code",
   "execution_count": 591,
   "metadata": {
    "collapsed": false
   },
   "outputs": [
    {
     "data": {
      "text/plain": [
       "<matplotlib.colorbar.Colorbar instance at 0x7fb6e779d950>"
      ]
     },
     "execution_count": 591,
     "metadata": {},
     "output_type": "execute_result"
    },
    {
     "data": {
      "image/png": "[encoded data removed]",
      "text/plain": [
       "<matplotlib.figure.Figure at 0x7fb6f6ff8a50>"
      ]
     },
     "metadata": {},
     "output_type": "display_data"
    }
   ],
   "source": [
    "plt.imshow(np.cov(d_r.T), interpolation = \"None\" , origin = \"lower\")\n",
    "plt.colorbar()\n"
   ]
  },
  {
   "cell_type": "code",
   "execution_count": 273,
   "metadata": {
    "collapsed": false
   },
   "outputs": [],
   "source": [
    "C_diag =  np.diag(np.cov(d_r.T))+1.e-11"
   ]
  },
  {
   "cell_type": "code",
   "execution_count": 292,
   "metadata": {
    "collapsed": false
   },
   "outputs": [
    {
     "data": {
      "text/plain": [
       "54.85047045868302"
      ]
     },
     "execution_count": 292,
     "metadata": {},
     "output_type": "execute_result"
    }
   ],
   "source": [
    "np.sum(((np.mean(d_r,axis=0)-y)**2./C_diag)[10:])"
   ]
  },
  {
   "cell_type": "code",
   "execution_count": 291,
   "metadata": {
    "collapsed": false
   },
   "outputs": [
    {
     "data": {
      "text/plain": [
       "48.568792671390725"
      ]
     },
     "execution_count": 291,
     "metadata": {},
     "output_type": "execute_result"
    }
   ],
   "source": [
    "np.sum(((np.mean(d_r,axis=0)-z)**2./C_diag)[10:])"
   ]
  },
  {
   "cell_type": "code",
   "execution_count": 276,
   "metadata": {
    "collapsed": true
   },
   "outputs": [],
   "source": [
    "data_richness = np.mean(d_r,axis=0)"
   ]
  },
  {
   "cell_type": "code",
   "execution_count": 277,
   "metadata": {
    "collapsed": false
   },
   "outputs": [
    {
     "data": {
      "text/plain": [
       "((59,), (59,))"
      ]
     },
     "execution_count": 277,
     "metadata": {},
     "output_type": "execute_result"
    }
   ],
   "source": [
    "variance = C_diag\n",
    "variance.shape , data_richness.shape"
   ]
  },
  {
   "cell_type": "code",
   "execution_count": 278,
   "metadata": {
    "collapsed": true
   },
   "outputs": [],
   "source": [
    "covariance = np.cov(d_r.T)"
   ]
  },
  {
   "cell_type": "code",
   "execution_count": 279,
   "metadata": {
    "collapsed": true
   },
   "outputs": [],
   "source": [
    "np.savetxt(\"data_richness.dat\" , data_richness)"
   ]
  },
  {
   "cell_type": "code",
   "execution_count": 280,
   "metadata": {
    "collapsed": true
   },
   "outputs": [],
   "source": [
    "np.savetxt(\"covariance_richness.dat\" , covariance)"
   ]
  },
  {
   "cell_type": "code",
   "execution_count": 281,
   "metadata": {
    "collapsed": true
   },
   "outputs": [],
   "source": [
    "np.savetxt(\"variance_richness.dat\" , variance)"
   ]
  },
  {
   "cell_type": "code",
   "execution_count": null,
   "metadata": {
    "collapsed": false
   },
   "outputs": [],
   "source": [
    "    "
   ]
  },
  {
   "cell_type": "code",
   "execution_count": null,
   "metadata": {
    "collapsed": false
   },
   "outputs": [],
   "source": []
  },
  {
   "cell_type": "code",
   "execution_count": 293,
   "metadata": {
    "collapsed": true
   },
   "outputs": [],
   "source": []
  },
  {
   "cell_type": "code",
   "execution_count": null,
   "metadata": {
    "collapsed": false
   },
   "outputs": [],
   "source": []
  },
  {
   "cell_type": "code",
   "execution_count": null,
   "metadata": {
    "collapsed": false
   },
   "outputs": [],
   "source": []
  },
  {
   "cell_type": "code",
   "execution_count": 301,
   "metadata": {
    "collapsed": true
   },
   "outputs": [],
   "source": [
    "zhengerror = np.array([3.46285183e+03, 1.64749125e+03, 7.80527281e+02,\n",
    "                      3.30492728e+02, 1.38927882e+02, 5.91026616e+01,\n",
    "                      2.45091664e+01, 1.10830722e+01, 5.76577829e+00,\n",
    "                      3.14415063e+00, 1.88664838e+00, 1.07786531e+00,\n",
    "                      5.54622962e-01, 2.87849970e-01])\n"
   ]
  },
  {
   "cell_type": "code",
   "execution_count": 508,
   "metadata": {
    "collapsed": false
   },
   "outputs": [
    {
     "data": {
      "image/png": "[encoded data removed]",
      "text/plain": [
       "<matplotlib.figure.Figure at 0x7fb6fd7a6b10>"
      ]
     },
     "metadata": {},
     "output_type": "display_data"
    },
    {
     "data": {
      "image/png": "[encoded data removed]",
      "text/plain": [
       "<matplotlib.figure.Figure at 0x7fb6f7c0e110>"
      ]
     },
     "metadata": {},
     "output_type": "display_data"
    },
    {
     "name": "stdout",
     "output_type": "stream",
     "text": [
      "[  7.77902050e+04   1.22017943e+04   2.10972985e+03   3.01345792e+02\n",
      "   5.46276177e+01   9.68773060e+00   1.36126685e+00   1.96206242e-01\n",
      "   2.70759896e-02   5.22624299e-03   1.51568697e-03   5.11665528e-04\n",
      "   1.44225424e-04   5.85306759e-05]\n",
      "[  2.75083456e+02   1.07295323e+02   4.31948728e+01   1.54787874e+01\n",
      "   6.42202598e+00   2.57068025e+00   9.41583585e-01   3.68480210e-01\n",
      "   1.46869395e-01   6.39425303e-02   3.39863300e-02   1.89939479e-02\n",
      "   9.52064833e-03   6.48109302e-03]\n"
     ]
    }
   ],
   "source": [
    "covariance = np.cov(xr.T)\n",
    "pylab.pcolor(covariance)\n",
    "pylab.colorbar()\n",
    "pylab.show()\n",
    "\n",
    "icov = np.linalg.inv(covariance)\n",
    "icov2 = np.linalg.solve(covariance , np.eye(14))\n",
    "pylab.savetxt(\"inverse_clustering_covariance.dat\" , icov2)\n",
    "pylab.pcolor(icov)\n",
    "pylab.colorbar()\n",
    "pylab.show()\n",
    "err = (np.diag(icov2))**-.5\n",
    "print np.diag(covariance)\n",
    "print err"
   ]
  },
  {
   "cell_type": "code",
   "execution_count": 316,
   "metadata": {
    "collapsed": true
   },
   "outputs": [],
   "source": [
    "m = Zheng07(threshold = -21)"
   ]
  },
  {
   "cell_type": "code",
   "execution_count": 319,
   "metadata": {
    "collapsed": true
   },
   "outputs": [],
   "source": [
    "m.param_dict[\"alpha\"] = 2."
   ]
  },
  {
   "cell_type": "code",
   "execution_count": 320,
   "metadata": {
    "collapsed": false
   },
   "outputs": [],
   "source": [
    "m.populate_mock()"
   ]
  },
  {
   "cell_type": "code",
   "execution_count": 321,
   "metadata": {
    "collapsed": false
   },
   "outputs": [],
   "source": [
    "r , x = m.mock.compute_galaxy_clustering()\n",
    "rr , xx = model.mock.compute_galaxy_clustering()"
   ]
  },
  {
   "cell_type": "code",
   "execution_count": 609,
   "metadata": {
    "collapsed": false
   },
   "outputs": [
    {
     "name": "stdout",
     "output_type": "stream",
     "text": [
      "[  0.12239095   0.17719995   0.25655347   0.37144299   0.53778224\n",
      "   0.77861137   1.12728837   1.63210958   2.36299934   3.42119545\n",
      "   4.95327193   7.17144145  10.38294952  15.03263208]\n"
     ]
    },
    {
     "data": {
      "text/plain": [
       "<matplotlib.text.Text at 0x7fb6fea818d0>"
      ]
     },
     "execution_count": 609,
     "metadata": {},
     "output_type": "execute_result"
    },
    {
     "data": {
      "image/png": "[encoded data removed]",
      "text/plain": [
       "<matplotlib.figure.Figure at 0x7fb6fb2c1810>"
      ]
     },
     "metadata": {},
     "output_type": "display_data"
    }
   ],
   "source": [
    "print rr\n",
    "pylab.figure(figsize(10,10))\n",
    "pylab.errorbar(rr , xx , yerr = 2. * err , fmt=\"-ok\", ms=1,\n",
    "            capsize=2, alpha=1.)\n",
    "\n",
    "pylab.yscale(\"log\")\n",
    "pylab.xscale(\"log\")\n",
    "pylab.xlabel(\"$r$\")\n",
    "pylab.ylabel(\"$\\\\xi (r)$\")\n",
    "#pylab.xlim((,16))\n"
   ]
  },
  {
   "cell_type": "code",
   "execution_count": 315,
   "metadata": {
    "collapsed": false
   },
   "outputs": [
    {
     "data": {
      "text/plain": [
       "{'alpha': 1.15,\n",
       " 'logM0': 11.92,\n",
       " 'logM1': 13.94,\n",
       " 'logMmin': 12.79,\n",
       " 'sigma_logM': 0.39}"
      ]
     },
     "execution_count": 315,
     "metadata": {},
     "output_type": "execute_result"
    }
   ],
   "source": [
    "model.param_dict"
   ]
  },
  {
   "cell_type": "code",
   "execution_count": 362,
   "metadata": {
    "collapsed": false
   },
   "outputs": [],
   "source": [
    "m = np.logspace(11,16, 100)\n",
    "from scipy.special import erf"
   ]
  },
  {
   "cell_type": "code",
   "execution_count": 363,
   "metadata": {
    "collapsed": false
   },
   "outputs": [],
   "source": [
    "def mean_central(M):\n",
    "    logMmin = model.param_dict[\"logMmin\"]\n",
    "    sigma = model.param_dict[\"sigma_logM\"]\n",
    "    return .5 * (1. + erf((np.log10(M) - logMmin)/(sigma)))"
   ]
  },
  {
   "cell_type": "code",
   "execution_count": null,
   "metadata": {
    "collapsed": false
   },
   "outputs": [],
   "source": []
  },
  {
   "cell_type": "code",
   "execution_count": 364,
   "metadata": {
    "collapsed": true
   },
   "outputs": [],
   "source": [
    "def mean_satelite(M):\n",
    "    ncen  = mean_central(M)\n",
    "    M0 = 10. ** model.param_dict[\"logM0\"]\n",
    "    M1 = 10. ** model.param_dict[\"logM1\"]\n",
    "    alpha = model.param_dict[\"alpha\"]\n",
    "    return ncen * ((M - M0)/(M1)) ** alpha"
   ]
  },
  {
   "cell_type": "code",
   "execution_count": 713,
   "metadata": {
    "collapsed": false
   },
   "outputs": [
    {
     "data": {
      "text/plain": [
       "(1e-06, 10000000000)"
      ]
     },
     "execution_count": 713,
     "metadata": {},
     "output_type": "execute_result"
    },
    {
     "data": {
      "image/png": "[encoded data removed]",
      "text/plain": [
       "<matplotlib.figure.Figure at 0x7fb6f71f18d0>"
      ]
     },
     "metadata": {},
     "output_type": "display_data"
    }
   ],
   "source": [
    "pylab.loglog(m , mean_central(m) , \"r\" , alpha = .1 , lw = 4.)\n",
    "pylab.loglog(m , mean_satelite(m) , \"b\" , alpha = .1 , lw = 4.)\n",
    "pylab.loglog(m , mean_central(m) + mean_satelite(m) , \"g\" , alpha = 1.)\n",
    "pylab.ylabel(\"$N(M)$\")\n",
    "pylab.ylim((10**-6 , 10**10))"
   ]
  },
  {
   "cell_type": "code",
   "execution_count": 351,
   "metadata": {
    "collapsed": false
   },
   "outputs": [
    {
     "name": "stdout",
     "output_type": "stream",
     "text": [
      "11.92\n"
     ]
    }
   ],
   "source": [
    "print model.param_dict[\"logM0\"]"
   ]
  },
  {
   "cell_type": "code",
   "execution_count": 451,
   "metadata": {
    "collapsed": true
   },
   "outputs": [],
   "source": [
    "model = Zheng07(threshold = -21)"
   ]
  },
  {
   "cell_type": "code",
   "execution_count": 453,
   "metadata": {
    "collapsed": false
   },
   "outputs": [],
   "source": [
    "model.populate_mock()"
   ]
  },
  {
   "cell_type": "code",
   "execution_count": 556,
   "metadata": {
    "collapsed": false
   },
   "outputs": [],
   "source": [
    "nbar = []\n",
    "for i in xrange(500):\n",
    "     model.populate_mock()\n",
    "     nbar.append(model.mock.number_density)"
   ]
  },
  {
   "cell_type": "code",
   "execution_count": 557,
   "metadata": {
    "collapsed": false
   },
   "outputs": [],
   "source": [
    "nbar = np.array(nbar)\n",
    "np.savetxt(\"mock_nbar.dat\" , nbar)"
   ]
  },
  {
   "cell_type": "code",
   "execution_count": 558,
   "metadata": {
    "collapsed": false
   },
   "outputs": [
    {
     "name": "stdout",
     "output_type": "stream",
     "text": [
      "0.000923547392\n"
     ]
    }
   ],
   "source": [
    "print np.mean(nbar)"
   ]
  },
  {
   "cell_type": "code",
   "execution_count": 560,
   "metadata": {
    "collapsed": false
   },
   "outputs": [
    {
     "name": "stdout",
     "output_type": "stream",
     "text": [
      "2.89344914063e-11\n"
     ]
    }
   ],
   "source": [
    "print np.var(nbar)"
   ]
  },
  {
   "cell_type": "code",
   "execution_count": 464,
   "metadata": {
    "collapsed": false
   },
   "outputs": [
    {
     "name": "stdout",
     "output_type": "stream",
     "text": [
      "{'logM0': 11.92, 'sigma_logM': 0.39, 'logMmin': 12.79, 'alpha': 1.15, 'logM1': 13.94}\n",
      "{'logM0': 12.1, 'sigma_logM': 0.39, 'logMmin': 12.79, 'alpha': 1.15, 'logM1': 13.94}\n"
     ]
    }
   ],
   "source": [
    "print model.param_dict\n",
    "print model2.param_dict"
   ]
  },
  {
   "cell_type": "code",
   "execution_count": null,
   "metadata": {
    "collapsed": true
   },
   "outputs": [],
   "source": []
  },
  {
   "cell_type": "code",
   "execution_count": null,
   "metadata": {
    "collapsed": false
   },
   "outputs": [],
   "source": []
  },
  {
   "cell_type": "code",
   "execution_count": 515,
   "metadata": {
    "collapsed": false
   },
   "outputs": [
    {
     "data": {
      "text/plain": [
       "array([  2.78908955e+02,   1.10461732e+02,   4.59317956e+01,\n",
       "         1.73593143e+01,   7.39104984e+00,   3.11251194e+00,\n",
       "         1.16673341e+00,   4.42951738e-01,   1.64547834e-01,\n",
       "         7.22927589e-02,   3.89318246e-02,   2.26200249e-02,\n",
       "         1.20093890e-02,   7.65053435e-03])"
      ]
     },
     "execution_count": 515,
     "metadata": {},
     "output_type": "execute_result"
    }
   ],
   "source": [
    "np.diag(covariance)**.5"
   ]
  },
  {
   "cell_type": "code",
   "execution_count": 516,
   "metadata": {
    "collapsed": true
   },
   "outputs": [],
   "source": [
    "np.savetxt(\"clustering_covariance.dat\" , covariance)"
   ]
  },
  {
   "cell_type": "code",
   "execution_count": 518,
   "metadata": {
    "collapsed": false
   },
   "outputs": [
    {
     "data": {
      "text/plain": [
       "0.000929408"
      ]
     },
     "execution_count": 518,
     "metadata": {},
     "output_type": "execute_result"
    }
   ],
   "source": [
    "model.mock.number_density"
   ]
  },
  {
   "cell_type": "code",
   "execution_count": 526,
   "metadata": {
    "collapsed": false
   },
   "outputs": [
    {
     "data": {
      "text/plain": [
       "array([  1.00000000e+12,   4.17531894e+11,   1.74332882e+11,\n",
       "         7.27895384e+10,   3.03919538e+10,   1.26896100e+10,\n",
       "         5.29831691e+09,   2.21221629e+09,   9.23670857e+08,\n",
       "         3.85662042e+08,   1.61026203e+08,   6.72335754e+07,\n",
       "         2.80721620e+07,   1.17210230e+07,   4.89390092e+06,\n",
       "         2.04335972e+06,   8.53167852e+05,   3.56224789e+05,\n",
       "         1.48735211e+05,   6.21016942e+04,   2.59294380e+04,\n",
       "         1.08263673e+04,   4.52035366e+03,   1.88739182e+03,\n",
       "         7.88046282e+02,   3.29034456e+02,   1.37382380e+02,\n",
       "         5.73615251e+01,   2.39502662e+01,   1.00000000e+01])"
      ]
     },
     "execution_count": 526,
     "metadata": {},
     "output_type": "execute_result"
    }
   ],
   "source": [
    "np.logspace(np.log10(1e12),np.log10(10) , 30)"
   ]
  },
  {
   "cell_type": "code",
   "execution_count": null,
   "metadata": {
    "collapsed": false
   },
   "outputs": [],
   "source": []
  },
  {
   "cell_type": "code",
   "execution_count": 551,
   "metadata": {
    "collapsed": false
   },
   "outputs": [],
   "source": [
    "dist= [[  9.34611722e+30 ,  1.19139184e+03],\n",
    " [  4.40717814e+32 ,  3.16556027e+03],\n",
    " [  6.97969451e+31 ,  3.61021871e+02],\n",
    " [  6.23476568e+28 ,  1.97302236e+04],\n",
    " [  3.05209675e+31 ,  1.10247217e+03]]\n",
    "eps= [  1.00000000e+41 ,  1.00000000e+12]\n",
    "dist = np.array(dist)\n"
   ]
  },
  {
   "cell_type": "code",
   "execution_count": 553,
   "metadata": {
    "collapsed": false
   },
   "outputs": [
    {
     "data": {
      "text/plain": [
       "[True, True, True, True, True]"
      ]
     },
     "execution_count": 553,
     "metadata": {},
     "output_type": "execute_result"
    }
   ],
   "source": [
    "[(dist[i]<eps).all() for i in range(dist.shape[0])]"
   ]
  },
  {
   "cell_type": "code",
   "execution_count": 592,
   "metadata": {
    "collapsed": false
   },
   "outputs": [],
   "source": [
    "mean = np.mean(nbar)\n",
    "var = np.var(nbar)"
   ]
  },
  {
   "cell_type": "code",
   "execution_count": null,
   "metadata": {
    "collapsed": false
   },
   "outputs": [],
   "source": []
  },
  {
   "cell_type": "code",
   "execution_count": 568,
   "metadata": {
    "collapsed": false
   },
   "outputs": [],
   "source": []
  },
  {
   "cell_type": "code",
   "execution_count": 570,
   "metadata": {
    "collapsed": false
   },
   "outputs": [
    {
     "name": "stdout",
     "output_type": "stream",
     "text": [
      "0.978275918821\n"
     ]
    }
   ],
   "source": []
  },
  {
   "cell_type": "code",
   "execution_count": 571,
   "metadata": {
    "collapsed": true
   },
   "outputs": [],
   "source": [
    "mocks_xir = np.loadtxt(\"xir.dat\")\n",
    "data_xir = np.mean(mocks_xir , axis = 0)\n",
    "covariance = np.loadtxt(\"clustering_covariance.dat\")\n",
    "cii = np.diag(covariance)"
   ]
  },
  {
   "cell_type": "code",
   "execution_count": 576,
   "metadata": {
    "collapsed": false
   },
   "outputs": [],
   "source": [
    "for i in range(200):\n",
    "    model.populate_mock()\n",
    "    n = model.mock.number_density\n",
    "    chi1.append((n - mean)**2. / var)\n",
    "    \n",
    "    r , x = model.mock.compute_galaxy_clustering()\n",
    "    chi2.append(np.sum((data_xir - x)**2. / cii))"
   ]
  },
  {
   "cell_type": "code",
   "execution_count": 585,
   "metadata": {
    "collapsed": false
   },
   "outputs": [
    {
     "data": {
      "text/plain": [
       "0.42059392849736243"
      ]
     },
     "execution_count": 585,
     "metadata": {},
     "output_type": "execute_result"
    }
   ],
   "source": [
    "np.median(np.array(chi1))"
   ]
  },
  {
   "cell_type": "code",
   "execution_count": 584,
   "metadata": {
    "collapsed": false
   },
   "outputs": [
    {
     "data": {
      "text/plain": [
       "12.831631385845437"
      ]
     },
     "execution_count": 584,
     "metadata": {},
     "output_type": "execute_result"
    }
   ],
   "source": [
    "np.median(np.array(chi2))"
   ]
  },
  {
   "cell_type": "code",
   "execution_count": 582,
   "metadata": {
    "collapsed": false
   },
   "outputs": [
    {
     "data": {
      "text/plain": [
       "(array([  55.,  118.,   66.,   34.,   16.,    7.,    2.,    1.,    0.,    1.]),\n",
       " array([  3.1745792 ,   8.51949181,  13.86440442,  19.20931703,\n",
       "         24.55422964,  29.89914225,  35.24405486,  40.58896747,\n",
       "         45.93388008,  51.27879269,  56.6237053 ]),\n",
       " <a list of 10 Patch objects>)"
      ]
     },
     "execution_count": 582,
     "metadata": {},
     "output_type": "execute_result"
    },
    {
     "data": {
      "image/png": "[encoded data removed]",
      "text/plain": [
       "<matplotlib.figure.Figure at 0x7fb6f6e883d0>"
      ]
     },
     "metadata": {},
     "output_type": "display_data"
    }
   ],
   "source": [
    "plt.hist(np.array(chi2))"
   ]
  },
  {
   "cell_type": "code",
   "execution_count": 593,
   "metadata": {
    "collapsed": false
   },
   "outputs": [
    {
     "data": {
      "text/plain": [
       "(array([ 191.,   46.,   23.,   18.,    9.,    4.,    5.,    2.,    0.,    2.]),\n",
       " array([  4.63165447e-05,   7.59171743e-01,   1.51829717e+00,\n",
       "          2.27742260e+00,   3.03654802e+00,   3.79567345e+00,\n",
       "          4.55479888e+00,   5.31392430e+00,   6.07304973e+00,\n",
       "          6.83217516e+00,   7.59130058e+00]),\n",
       " <a list of 10 Patch objects>)"
      ]
     },
     "execution_count": 593,
     "metadata": {},
     "output_type": "execute_result"
    },
    {
     "data": {
      "image/png": "[encoded data removed]",
      "text/plain": [
       "<matplotlib.figure.Figure at 0x7fb6e78e9910>"
      ]
     },
     "metadata": {},
     "output_type": "display_data"
    }
   ],
   "source": [
    "plt.hist(np.array(chi1))"
   ]
  },
  {
   "cell_type": "code",
   "execution_count": 594,
   "metadata": {
    "collapsed": false
   },
   "outputs": [
    {
     "name": "stdout",
     "output_type": "stream",
     "text": [
      "the mean of clustering distances with the correct HOD =  14.3684511307\n",
      "the mean of number density distances with the correct HOD =  0.930518398615\n"
     ]
    }
   ],
   "source": [
    "print \"the mean of clustering distances with the correct HOD = \" , np.array(chi2).mean()\n",
    "print \"the mean of number density distances with the correct HOD = \" , np.array(chi1).mean()\n"
   ]
  },
  {
   "cell_type": "code",
   "execution_count": null,
   "metadata": {
    "collapsed": false
   },
   "outputs": [],
   "source": []
  },
  {
   "cell_type": "code",
   "execution_count": null,
   "metadata": {
    "collapsed": true
   },
   "outputs": [],
   "source": []
  },
  {
   "cell_type": "code",
   "execution_count": 605,
   "metadata": {
    "collapsed": false
   },
   "outputs": [
    {
     "name": "stdout",
     "output_type": "stream",
     "text": [
      "The slowest run took 4.02 times longer than the fastest. This could mean that an intermediate result is being cached \n",
      "10000 loops, best of 3: 26.9 µs per loop\n",
      "The slowest run took 4.80 times longer than the fastest. This could mean that an intermediate result is being cached \n",
      "100000 loops, best of 3: 8.94 µs per loop\n"
     ]
    }
   ],
   "source": [
    "model.populate_mock()\n",
    "r , x = model.mock.compute_galaxy_clustering()\n",
    "res = data_xir - x\n",
    "%timeit np.dot(res , np.linalg.solve(covariance , res))\n",
    "%timeit np.sum(res**2 / cii)"
   ]
  },
  {
   "cell_type": "code",
   "execution_count": 614,
   "metadata": {
    "collapsed": true
   },
   "outputs": [],
   "source": [
    "from halotools.mock_observables import wp"
   ]
  },
  {
   "cell_type": "code",
   "execution_count": 618,
   "metadata": {
    "collapsed": false
   },
   "outputs": [],
   "source": [
    "from halotools.mock_observables.clustering import tpcf"
   ]
  },
  {
   "cell_type": "code",
   "execution_count": 622,
   "metadata": {
    "collapsed": false
   },
   "outputs": [],
   "source": [
    "from halotools import mock_observables"
   ]
  },
  {
   "cell_type": "code",
   "execution_count": null,
   "metadata": {
    "collapsed": false
   },
   "outputs": [],
   "source": []
  },
  {
   "cell_type": "code",
   "execution_count": 629,
   "metadata": {
    "collapsed": true
   },
   "outputs": [],
   "source": [
    "from halotools.empirical_models.mock_helpers import (three_dim_pos_bundle,\n",
    "                                                     infer_mask_from_kwargs)\n",
    "from halotools.mock_observables.clustering import wp"
   ]
  },
  {
   "cell_type": "code",
   "execution_count": 630,
   "metadata": {
    "collapsed": true
   },
   "outputs": [],
   "source": [
    "rbins = model_defaults.default_rbins"
   ]
  },
  {
   "cell_type": "code",
   "execution_count": 631,
   "metadata": {
    "collapsed": true
   },
   "outputs": [],
   "source": [
    "rbin_centers = (rbins[1:] + rbins[0:-1])/2."
   ]
  },
  {
   "cell_type": "code",
   "execution_count": 632,
   "metadata": {
    "collapsed": false
   },
   "outputs": [
    {
     "name": "stdout",
     "output_type": "stream",
     "text": [
      "[  0.1          0.1447819    0.209618     0.30348893   0.43939706\n",
      "   0.63616743   0.92105532   1.33352143   1.93069773   2.79530095\n",
      "   4.04708995   5.85945392   8.48342898  12.28247006  17.7827941 ]\n"
     ]
    }
   ],
   "source": [
    "print rbins"
   ]
  },
  {
   "cell_type": "code",
   "execution_count": 633,
   "metadata": {
    "collapsed": true
   },
   "outputs": [],
   "source": [
    "from halotools.sim_manager import supported_sims"
   ]
  },
  {
   "cell_type": "code",
   "execution_count": 634,
   "metadata": {
    "collapsed": true
   },
   "outputs": [],
   "source": [
    "cat = supported_sims.HaloCatalog()"
   ]
  },
  {
   "cell_type": "code",
   "execution_count": 637,
   "metadata": {
    "collapsed": true
   },
   "outputs": [],
   "source": [
    "L = cat.Lbox\n",
    "mask = infer_mask_from_kwargs(model.mock.galaxy_table)"
   ]
  },
  {
   "cell_type": "code",
   "execution_count": 638,
   "metadata": {
    "collapsed": false
   },
   "outputs": [],
   "source": [
    "pos = three_dim_pos_bundle(table=model.mock.galaxy_table,\n",
    "                               key1='x', key2='y', key3='z', mask=mask,\n",
    "                               return_complement=False)"
   ]
  },
  {
   "cell_type": "code",
   "execution_count": 690,
   "metadata": {
    "collapsed": false
   },
   "outputs": [],
   "source": [
    "clustering = wp(pos, rbins, p_bins , period = L)"
   ]
  },
  {
   "cell_type": "code",
   "execution_count": 687,
   "metadata": {
    "collapsed": false
   },
   "outputs": [
    {
     "name": "stdout",
     "output_type": "stream",
     "text": [
      "(14,)\n",
      "(14,)\n",
      "250.0\n"
     ]
    }
   ],
   "source": [
    "print clustering.shape\n",
    "print rbin_centers.shape\n",
    "print L"
   ]
  },
  {
   "cell_type": "code",
   "execution_count": 691,
   "metadata": {
    "collapsed": false
   },
   "outputs": [
    {
     "data": {
      "image/png": "[encoded data removed]",
      "text/plain": [
       "<matplotlib.figure.Figure at 0x7fb6e7a4cd10>"
      ]
     },
     "metadata": {},
     "output_type": "display_data"
    }
   ],
   "source": [
    "plot(rbin_centers , clustering)\n",
    "plt.xscale(\"Log\")\n",
    "plt.yscale(\"Log\")"
   ]
  },
  {
   "cell_type": "code",
   "execution_count": 689,
   "metadata": {
    "collapsed": false
   },
   "outputs": [],
   "source": [
    "p_bins = np.linspace(0,L/2,10)"
   ]
  },
  {
   "cell_type": "code",
   "execution_count": 694,
   "metadata": {
    "collapsed": false
   },
   "outputs": [],
   "source": [
    "pi_max  = np.linspace(2, L/2 , 10)\n",
    "cl = []\n",
    "for pi in pi_max:\n",
    "    p_bins = np.linspace(0,pi,100)\n",
    "    clustering = wp(pos, rbins, p_bins , period = L)\n",
    "    cl.append(clustering)"
   ]
  },
  {
   "cell_type": "code",
   "execution_count": 750,
   "metadata": {
    "collapsed": false
   },
   "outputs": [
    {
     "data": {
      "image/png": "[encoded data removed]",
      "text/plain": [
       "<matplotlib.figure.Figure at 0x7fb6f07f2d90>"
      ]
     },
     "metadata": {},
     "output_type": "display_data"
    }
   ],
   "source": [
    "figure = plt.figure(figsize = (10,10))\n",
    "for i in range(0,10):\n",
    "    plot(rbin_centers , cl[i] , label = \"$\\pi_{max}$=\"+str(round(pi_max[i])))\n",
    "    #plot(rbin_centers , cl[i] , label = \"$\\pi_{max}$={0:.2f}\".format(pi_max[i]))\n",
    "    \n",
    "    plt.ylabel(\"$w_p$\")\n",
    "    plt.xlabel(\"$r_p$\")\n",
    "    plt.xscale(\"Log\")\n",
    "    plt.yscale(\"Log\")\n",
    "    plt.legend()"
   ]
  },
  {
   "cell_type": "code",
   "execution_count": 732,
   "metadata": {
    "collapsed": false
   },
   "outputs": [],
   "source": [
    "binsize = np.logspace(1,3,20)\n",
    "cl2 = []\n",
    "for bsize in binsize:\n",
    "    p_bins = np.linspace(0,125,bsize)\n",
    "    clustering = wp(pos, rbins, p_bins , period = L)\n",
    "    cl2.append(clustering)"
   ]
  },
  {
   "cell_type": "code",
   "execution_count": 754,
   "metadata": {
    "collapsed": false
   },
   "outputs": [
    {
     "data": {
      "image/png": "[encoded data removed]",
      "text/plain": [
       "<matplotlib.figure.Figure at 0x7fb6f6769d10>"
      ]
     },
     "metadata": {},
     "output_type": "display_data"
    }
   ],
   "source": [
    "figure = plt.figure(figsize = (10,10))\n",
    "for i in range(0,10):\n",
    "    plot(rbin_centers , cl2[i] , label = \"Bin size=\"+str(round(125/binsize[i]))+\" Mpc\")\n",
    "    #plot(rbin_centers , cl[i] , label = \"$\\pi_{max}$={0:.2f}\".format(pi_max[i]))\n",
    "    plt.title(\"$\\pi_{max}=$\"+str(125)+\" Mpc\")\n",
    "\n",
    "    plt.ylabel(\"$w_p$\")\n",
    "    plt.xlabel(\"$r_p$\")\n",
    "    plt.xscale(\"Log\")\n",
    "    plt.yscale(\"Log\")\n",
    "    plt.legend()"
   ]
  },
  {
   "cell_type": "code",
   "execution_count": 739,
   "metadata": {
    "collapsed": true
   },
   "outputs": [],
   "source": [
    "binsize = np.logspace(1,3,20)\n",
    "cl3 = []\n",
    "for bsize in binsize:\n",
    "    p_bins = np.linspace(0,50,bsize)\n",
    "    clustering = wp(pos, rbins, p_bins , period = L)\n",
    "    cl3.append(clustering)"
   ]
  },
  {
   "cell_type": "code",
   "execution_count": 772,
   "metadata": {
    "collapsed": false
   },
   "outputs": [
    {
     "data": {
      "image/png": "[encoded data removed]",
      "text/plain": [
       "<matplotlib.figure.Figure at 0x7fb6fb408f90>"
      ]
     },
     "metadata": {},
     "output_type": "display_data"
    }
   ],
   "source": [
    "figure = plt.figure(figsize = (10,10))\n",
    "for i in range(0,10):\n",
    "    plot(rbin_centers , cl3[i] ,label = \"Bin size=\"+str(round(50/binsize[i]))+\" Mpc\")\n",
    "    #plot(rbin_centers , cl[i] , label = \"$\\pi_{max}$={0:.2f}\".format(pi_max[i]))\n",
    "    plt.title(\"$\\pi_{max}=$\"+str(50)+\" Mpc\")\n",
    "    plt.ylabel(\"$w_p$\")\n",
    "    plt.xlabel(\"$r_p$\")\n",
    "    plt.xscale(\"Log\")\n",
    "    plt.yscale(\"Log\")\n",
    "    plt.legend()"
   ]
  },
  {
   "cell_type": "code",
   "execution_count": 786,
   "metadata": {
    "collapsed": false
   },
   "outputs": [
    {
     "ename": "IndexError",
     "evalue": "index 14330 is out of bounds for axis 1 with size 14330",
     "output_type": "error",
     "traceback": [
      "\u001b[1;31m---------------------------------------------------------------------------\u001b[0m",
      "\u001b[1;31mIndexError\u001b[0m                                Traceback (most recent call last)",
      "\u001b[1;32m<ipython-input-786-d63864255082>\u001b[0m in \u001b[0;36m<module>\u001b[1;34m()\u001b[0m\n\u001b[0;32m      2\u001b[0m pos = three_dim_pos_bundle(table=model.mock.galaxy_table,\n\u001b[0;32m      3\u001b[0m                                \u001b[0mkey1\u001b[0m\u001b[1;33m=\u001b[0m\u001b[1;34m'x'\u001b[0m\u001b[1;33m,\u001b[0m \u001b[0mkey2\u001b[0m\u001b[1;33m=\u001b[0m\u001b[1;34m'y'\u001b[0m\u001b[1;33m,\u001b[0m \u001b[0mkey3\u001b[0m\u001b[1;33m=\u001b[0m\u001b[1;34m'z'\u001b[0m\u001b[1;33m,\u001b[0m \u001b[0mmask\u001b[0m\u001b[1;33m=\u001b[0m\u001b[0mmask\u001b[0m\u001b[1;33m,\u001b[0m\u001b[1;33m\u001b[0m\u001b[0m\n\u001b[1;32m----> 4\u001b[1;33m                                return_complement=False)\n\u001b[0m\u001b[0;32m      5\u001b[0m \u001b[0mpbins\u001b[0m \u001b[1;33m=\u001b[0m \u001b[0mnp\u001b[0m\u001b[1;33m.\u001b[0m\u001b[0mlinspace\u001b[0m\u001b[1;33m(\u001b[0m\u001b[1;36m0\u001b[0m \u001b[1;33m,\u001b[0m \u001b[1;36m125\u001b[0m \u001b[1;33m,\u001b[0m \u001b[1;36m50\u001b[0m\u001b[1;33m)\u001b[0m\u001b[1;33m\u001b[0m\u001b[0m\n\u001b[0;32m      6\u001b[0m \u001b[0mclustering\u001b[0m \u001b[1;33m=\u001b[0m \u001b[0mwp\u001b[0m\u001b[1;33m(\u001b[0m\u001b[0mpos\u001b[0m\u001b[1;33m,\u001b[0m \u001b[0mrbins\u001b[0m\u001b[1;33m,\u001b[0m \u001b[0mp_bins\u001b[0m \u001b[1;33m,\u001b[0m \u001b[0mperiod\u001b[0m \u001b[1;33m=\u001b[0m \u001b[0mL\u001b[0m\u001b[1;33m)\u001b[0m\u001b[1;33m\u001b[0m\u001b[0m\n",
      "\u001b[1;32m/home/mj/halotools/halotools/empirical_models/mock_helpers.pyc\u001b[0m in \u001b[0;36mthree_dim_pos_bundle\u001b[1;34m(table, key1, key2, key3, return_complement, **kwargs)\u001b[0m\n\u001b[0;32m     35\u001b[0m     \u001b[1;32mif\u001b[0m \u001b[1;34m'mask'\u001b[0m \u001b[1;32min\u001b[0m \u001b[0mkwargs\u001b[0m\u001b[1;33m.\u001b[0m\u001b[0mkeys\u001b[0m\u001b[1;33m(\u001b[0m\u001b[1;33m)\u001b[0m\u001b[1;33m:\u001b[0m\u001b[1;33m\u001b[0m\u001b[0m\n\u001b[0;32m     36\u001b[0m         \u001b[0mmask\u001b[0m \u001b[1;33m=\u001b[0m \u001b[0mkwargs\u001b[0m\u001b[1;33m[\u001b[0m\u001b[1;34m'mask'\u001b[0m\u001b[1;33m]\u001b[0m\u001b[1;33m\u001b[0m\u001b[0m\n\u001b[1;32m---> 37\u001b[1;33m         \u001b[0mx\u001b[0m\u001b[1;33m,\u001b[0m \u001b[0my\u001b[0m\u001b[1;33m,\u001b[0m \u001b[0mz\u001b[0m \u001b[1;33m=\u001b[0m \u001b[0mtable\u001b[0m\u001b[1;33m[\u001b[0m\u001b[0mkey1\u001b[0m\u001b[1;33m]\u001b[0m\u001b[1;33m[\u001b[0m\u001b[0mmask\u001b[0m\u001b[1;33m]\u001b[0m\u001b[1;33m,\u001b[0m \u001b[0mtable\u001b[0m\u001b[1;33m[\u001b[0m\u001b[0mkey2\u001b[0m\u001b[1;33m]\u001b[0m\u001b[1;33m[\u001b[0m\u001b[0mmask\u001b[0m\u001b[1;33m]\u001b[0m\u001b[1;33m,\u001b[0m \u001b[0mtable\u001b[0m\u001b[1;33m[\u001b[0m\u001b[0mkey3\u001b[0m\u001b[1;33m]\u001b[0m\u001b[1;33m[\u001b[0m\u001b[0mmask\u001b[0m\u001b[1;33m]\u001b[0m\u001b[1;33m\u001b[0m\u001b[0m\n\u001b[0m\u001b[0;32m     38\u001b[0m         \u001b[1;32mif\u001b[0m \u001b[0mreturn_complement\u001b[0m \u001b[1;32mis\u001b[0m \u001b[0mTrue\u001b[0m\u001b[1;33m:\u001b[0m\u001b[1;33m\u001b[0m\u001b[0m\n\u001b[0;32m     39\u001b[0m             \u001b[0mx2\u001b[0m\u001b[1;33m,\u001b[0m \u001b[0my2\u001b[0m\u001b[1;33m,\u001b[0m \u001b[0mz2\u001b[0m \u001b[1;33m=\u001b[0m \u001b[0mtable\u001b[0m\u001b[1;33m[\u001b[0m\u001b[0mkey1\u001b[0m\u001b[1;33m]\u001b[0m\u001b[1;33m[\u001b[0m\u001b[0mnp\u001b[0m\u001b[1;33m.\u001b[0m\u001b[0minvert\u001b[0m\u001b[1;33m(\u001b[0m\u001b[0mmask\u001b[0m\u001b[1;33m)\u001b[0m\u001b[1;33m]\u001b[0m\u001b[1;33m,\u001b[0m \u001b[0mtable\u001b[0m\u001b[1;33m[\u001b[0m\u001b[0mkey2\u001b[0m\u001b[1;33m]\u001b[0m\u001b[1;33m[\u001b[0m\u001b[0mnp\u001b[0m\u001b[1;33m.\u001b[0m\u001b[0minvert\u001b[0m\u001b[1;33m(\u001b[0m\u001b[0mmask\u001b[0m\u001b[1;33m)\u001b[0m\u001b[1;33m]\u001b[0m\u001b[1;33m,\u001b[0m \u001b[0mtable\u001b[0m\u001b[1;33m[\u001b[0m\u001b[0mkey3\u001b[0m\u001b[1;33m]\u001b[0m\u001b[1;33m[\u001b[0m\u001b[0mnp\u001b[0m\u001b[1;33m.\u001b[0m\u001b[0minvert\u001b[0m\u001b[1;33m(\u001b[0m\u001b[0mmask\u001b[0m\u001b[1;33m)\u001b[0m\u001b[1;33m]\u001b[0m\u001b[1;33m\u001b[0m\u001b[0m\n",
      "\u001b[1;32m/export/bbq2/rfadely/anaconda/lib/python2.7/site-packages/astropy/table/column.pyc\u001b[0m in \u001b[0;36m__getitem__\u001b[1;34m(self, item)\u001b[0m\n\u001b[0;32m    328\u001b[0m             \u001b[1;32mreturn\u001b[0m \u001b[0mself\u001b[0m\u001b[1;33m.\u001b[0m\u001b[0mdata\u001b[0m\u001b[1;33m[\u001b[0m\u001b[0mitem\u001b[0m\u001b[1;33m]\u001b[0m  \u001b[1;31m# Return as plain ndarray or ma.MaskedArray\u001b[0m\u001b[1;33m\u001b[0m\u001b[0m\n\u001b[0;32m    329\u001b[0m         \u001b[1;32melse\u001b[0m\u001b[1;33m:\u001b[0m\u001b[1;33m\u001b[0m\u001b[0m\n\u001b[1;32m--> 330\u001b[1;33m             \u001b[1;32mreturn\u001b[0m \u001b[0msuper\u001b[0m\u001b[1;33m(\u001b[0m\u001b[0mBaseColumn\u001b[0m\u001b[1;33m,\u001b[0m \u001b[0mself\u001b[0m\u001b[1;33m)\u001b[0m\u001b[1;33m.\u001b[0m\u001b[0m__getitem__\u001b[0m\u001b[1;33m(\u001b[0m\u001b[0mitem\u001b[0m\u001b[1;33m)\u001b[0m\u001b[1;33m\u001b[0m\u001b[0m\n\u001b[0m\u001b[0;32m    331\u001b[0m \u001b[1;33m\u001b[0m\u001b[0m\n\u001b[0;32m    332\u001b[0m     \u001b[1;31m# avoid == and != to be done based on type of subclass\u001b[0m\u001b[1;33m\u001b[0m\u001b[1;33m\u001b[0m\u001b[0m\n",
      "\u001b[1;31mIndexError\u001b[0m: index 14330 is out of bounds for axis 1 with size 14330"
     ]
    }
   ],
   "source": [
    "model.populate_mock()\n",
    "pos = three_dim_pos_bundle(table=model.mock.galaxy_table,\n",
    "                               key1='x', key2='y', key3='z', mask=mask,\n",
    "                               return_complement=False)\n",
    "pbins = np.linspace(0 , 125 , 50)\n",
    "clustering = wp(pos, rbins, p_bins , period = L)"
   ]
  },
  {
   "cell_type": "code",
   "execution_count": 770,
   "metadata": {
    "collapsed": false
   },
   "outputs": [],
   "source": [
    "from halotools.mock_observables import s_mu_tpcf"
   ]
  },
  {
   "cell_type": "code",
   "execution_count": 769,
   "metadata": {
    "collapsed": false
   },
   "outputs": [],
   "source": [
    "#s_bins = np.logspace(-2,-1,10)\n",
    "#mu_bins = np.linspace(0,1,50)\n",
    "#xis = s_mu_tpcf(pos, s_bins, mu_bins, period=L)"
   ]
  },
  {
   "cell_type": "code",
   "execution_count": 927,
   "metadata": {
    "collapsed": false
   },
   "outputs": [],
   "source": [
    "wp_list = []\n",
    "p_bins = np.linspace(0,125,100)\n",
    "for i in range(500):\n",
    "    model.populate_mock()\n",
    "    pos = three_dim_pos_bundle(table=model.mock.galaxy_table,\n",
    "                               key1='x', key2='y', key3='z')\n",
    "    wp_list.append(wp(pos, rbins, p_bins , period = np.array([L,L,L])))"
   ]
  },
  {
   "cell_type": "code",
   "execution_count": 926,
   "metadata": {
    "collapsed": false
   },
   "outputs": [
    {
     "name": "stdout",
     "output_type": "stream",
     "text": [
      "1.4071688652\n"
     ]
    }
   ],
   "source": [
    "import time\n",
    "a = time.time()\n",
    "#pos = three_dim_pos_bundle(table=model.mock.galaxy_table,key1='x', key2='y', key3='z' ,return_complement=False)\n",
    "#wp(pos, rbins, pi_bins , period = np.array([L,L,L]))\n",
    "model.mock.compute_galaxy_clustering()\n",
    "print time.time() - a"
   ]
  },
  {
   "cell_type": "code",
   "execution_count": 921,
   "metadata": {
    "collapsed": false
   },
   "outputs": [],
   "source": [
    "pi_bins = np.linspace(0,125,200)\n",
    "d1 = wp(pos, rbins, pi_bins , period = np.array([L,L,L]))"
   ]
  },
  {
   "cell_type": "code",
   "execution_count": 922,
   "metadata": {
    "collapsed": false
   },
   "outputs": [
    {
     "name": "stdout",
     "output_type": "stream",
     "text": [
      "1 loops, best of 3: 903 ms per loop\n"
     ]
    }
   ],
   "source": [
    "pi_bins = np.linspace(0,125,100)\n",
    "%timeit d2 = wp(pos, rbins, pi_bins , period = np.array([L,L,L]))"
   ]
  },
  {
   "cell_type": "code",
   "execution_count": 929,
   "metadata": {
    "collapsed": false
   },
   "outputs": [],
   "source": [
    "wps = np.array(wp_list)"
   ]
  },
  {
   "cell_type": "code",
   "execution_count": 931,
   "metadata": {
    "collapsed": false
   },
   "outputs": [],
   "source": [
    "wp_cov = np.cov(wps.T)"
   ]
  },
  {
   "cell_type": "code",
   "execution_count": 937,
   "metadata": {
    "collapsed": false
   },
   "outputs": [
    {
     "data": {
      "text/plain": [
       "<matplotlib.colorbar.Colorbar instance at 0x7fb6f43e9e60>"
      ]
     },
     "execution_count": 937,
     "metadata": {},
     "output_type": "execute_result"
    },
    {
     "data": {
      "image/png": "[encoded data removed]",
      "text/plain": [
       "<matplotlib.figure.Figure at 0x7fb6f7daa110>"
      ]
     },
     "metadata": {},
     "output_type": "display_data"
    }
   ],
   "source": [
    "imshow(wp_cov , interpolation = \"None\" , origin = \"lower\")\n",
    "colorbar()"
   ]
  },
  {
   "cell_type": "code",
   "execution_count": 938,
   "metadata": {
    "collapsed": true
   },
   "outputs": [],
   "source": [
    "np.savetxt(\"wps.dat\" , wps)\n",
    "np.savetxt(\"wp_covariance.dat\" , wp_cov)"
   ]
  },
  {
   "cell_type": "code",
   "execution_count": 946,
   "metadata": {
    "collapsed": false
   },
   "outputs": [],
   "source": [
    "data_wp = np.mean(wps , axis = 0) \n",
    "cii = np.diag(wp_cov)\n",
    "chi3 = []\n",
    "for i in range(500):\n",
    "    #model.populate_mock()\n",
    "    #pos = three_dim_pos_bundle(table=model.mock.galaxy_table,\n",
    "    #                           key1='x', key2='y', key3='z')\n",
    "    #wp_list.append(wp(pos, rbins, p_bins , period = np.array([L,L,L])))\n",
    "    \n",
    "    #r , x = model.mock.compute_galaxy_clustering()\n",
    "    chi3.append(np.sum((data_wp - wps[i])**2. / cii))"
   ]
  },
  {
   "cell_type": "code",
   "execution_count": 947,
   "metadata": {
    "collapsed": false
   },
   "outputs": [
    {
     "data": {
      "text/plain": [
       "13.972000000000003"
      ]
     },
     "execution_count": 947,
     "metadata": {},
     "output_type": "execute_result"
    }
   ],
   "source": [
    "np.array(chi3).mean()"
   ]
  },
  {
   "cell_type": "code",
   "execution_count": null,
   "metadata": {
    "collapsed": true
   },
   "outputs": [],
   "source": []
  }
 ],
 "metadata": {
  "kernelspec": {
   "display_name": "Python 2",
   "language": "python",
   "name": "python2"
  },
  "language_info": {
   "codemirror_mode": {
    "name": "ipython",
    "version": 2
   },
   "file_extension": ".py",
   "mimetype": "text/x-python",
   "name": "python",
   "nbconvert_exporter": "python",
   "pygments_lexer": "ipython2",
   "version": "2.7.9"
  }
 },
 "nbformat": 4,
 "nbformat_minor": 0
}
