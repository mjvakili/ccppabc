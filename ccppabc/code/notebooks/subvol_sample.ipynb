{
 "metadata": {
  "name": "",
  "signature": "sha256:366ab11ce299a0d7148b9d2c03a925332ccf4823c960a9b197e17424901a65f7"
 },
 "nbformat": 3,
 "nbformat_minor": 0,
 "worksheets": [
  {
   "cells": [
    {
     "cell_type": "heading",
     "level": 2,
     "metadata": {},
     "source": [
      "Populate random subvolume of a simulation box and compute the correlation function for the mock with precomputed RR pairs "
     ]
    },
    {
     "cell_type": "markdown",
     "metadata": {},
     "source": [
      " * First add a subvolume id column to the halo catalogue"
     ]
    },
    {
     "cell_type": "code",
     "collapsed": false,
     "input": [
      "import numpy as np\n",
      "from halotools.sim_manager import CachedHaloCatalog\n",
      "from halotools.empirical_models import PrebuiltHodModelFactory\n",
      "\n",
      "\n",
      "# use the z=0 slice of Multidark\n",
      "halocat = CachedHaloCatalog(simname='multidark', halo_finder='rockstar', redshift=0.)\n",
      "  \n",
      "   \n",
      "# define function to pass to HOD model to add column to halo table\n",
      "def mk_id_column(table=None):\n",
      "\n",
      "    # set up ids from 0 to 124 for the box split into 5 along each edge\n",
      "    edges = np.linspace(0, 800, 5)\n",
      "    \n",
      "    xs = table[\"halo_x\"]\n",
      "    ys = table[\"halo_y\"]\n",
      "    zs = table[\"halo_z\"]\n",
      "\n",
      "    subvol_ids = np.empty(xs.shape)\n",
      "    for i in xrange(len(xs)):\n",
      "        xi = np.where(edges < xs[i])[0][-1]\n",
      "        yi = np.where(edges < ys[i])[0][-1]\n",
      "        zi = np.where(edges < zs[i])[0][-1]\n",
      "        subvol_ids[i] = zi * 25 + yi * 5 + xi\n",
      "    \n",
      "    return subvol_ids\n",
      "\n",
      "\n",
      "model = PrebuiltHodModelFactory('zheng07', threshold=-20., redshift=0.)\n",
      "model.new_haloprop_func_dict = {'sim_subvol': mk_id_column}  "
     ],
     "language": "python",
     "metadata": {},
     "outputs": [],
     "prompt_number": 3
    },
    {
     "cell_type": "markdown",
     "metadata": {},
     "source": [
      "* Now, populate a random subvolume with galaxies"
     ]
    },
    {
     "cell_type": "code",
     "collapsed": false,
     "input": [
      "# randomly choose the id of the subvolume to populate\n",
      "randvol_id = np.random.randint(125)\n",
      "\n",
      "# define a masking function to find the model halos that are in the selected subvolume\n",
      "def mask_func(halo_table, subvol_index):\n",
      "    ids = halo_table[\"sim_subvol\"]\n",
      "    return np.where(ids == subvol_index)[0]\n",
      "\n",
      "# create a restricted version of this function which already has the random id passed to it\n",
      "mocksubvol = lambda x: mask_func(x, randvol_id)\n",
      "\n",
      "# and now pass this lambda function to the populate_mock method\n",
      "model.populate_mock(halocat=halocat, masking_function=mocksubvol, enforce_PBC=False)"
     ],
     "language": "python",
     "metadata": {},
     "outputs": [
      {
       "output_type": "stream",
       "stream": "stdout",
       "text": [
        "\n",
        "...Building lookup tables for the NFWPhaseSpace radial profile.\n",
        "    (This will take about 5 seconds, and only needs to be done once)\n"
       ]
      }
     ],
     "prompt_number": 4
    },
    {
     "cell_type": "code",
     "collapsed": false,
     "input": [
      "# And check that this worked\n",
      "print randvol_id\n",
      "\n",
      "print np.min(model.mock.galaxy_table['x'])\n",
      "print np.max(model.mock.galaxy_table['x'])\n",
      "print np.min(model.mock.galaxy_table['y'])\n",
      "print np.max(model.mock.galaxy_table['y'])\n",
      "print np.min(model.mock.galaxy_table['z'])\n",
      "print np.max(model.mock.galaxy_table['z'])"
     ],
     "language": "python",
     "metadata": {},
     "outputs": [
      {
       "output_type": "stream",
       "stream": "stdout",
       "text": [
        "70\n",
        "-0.191926146868\n",
        "200.191156366\n",
        "799.149702602\n",
        "1000.51431675\n",
        "399.958869767\n",
        "600.175313312\n"
       ]
      }
     ],
     "prompt_number": 7
    },
    {
     "cell_type": "code",
     "collapsed": false,
     "input": [],
     "language": "python",
     "metadata": {},
     "outputs": []
    }
   ],
   "metadata": {}
  }
 ]
}