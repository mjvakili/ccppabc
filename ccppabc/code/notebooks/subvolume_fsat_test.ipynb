{
 "cells": [
  {
   "cell_type": "code",
   "execution_count": 7,
   "metadata": {
    "collapsed": true
   },
   "outputs": [],
   "source": [
    "import os\n",
    "import time\n",
    "import numpy as np \n",
    "from halotools.sim_manager import CachedHaloCatalog\n",
    "from halotools.empirical_models import PrebuiltHodModelFactory\n",
    "from halotools.mock_observables import tpcf\n",
    "from halotools.empirical_models.factories.mock_helpers import three_dim_pos_bundle\n",
    "import matplotlib.pyplot as plt\n",
    "from ChangTools.plotting import prettyplot\n",
    "from ChangTools.plotting import prettycolors\n",
    "%matplotlib inline\n",
    "from ccppabc.code import util"
   ]
  },
  {
   "cell_type": "markdown",
   "metadata": {},
   "source": [
    "# Calculate $f_{sat}$ for the Entire MultiDark Volume"
   ]
  },
  {
   "cell_type": "code",
   "execution_count": 19,
   "metadata": {
    "collapsed": true
   },
   "outputs": [],
   "source": [
    "# initialize hod model\n",
    "model = PrebuiltHodModelFactory('zheng07', threshold=-21)\n",
    "halocat = CachedHaloCatalog(simname='multidark', redshift=0, halo_finder='rockstar')\n",
    "model.populate_mock(halocat, enforce_PBC=False)"
   ]
  },
  {
   "cell_type": "code",
   "execution_count": 20,
   "metadata": {
    "collapsed": false
   },
   "outputs": [],
   "source": [
    "N_sat = len(np.where(model.mock.galaxy_table['gal_type'] == 'satellites')[0])\n",
    "N_gal = len(model.mock.galaxy_table['gal_type'])"
   ]
  },
  {
   "cell_type": "code",
   "execution_count": 21,
   "metadata": {
    "collapsed": false
   },
   "outputs": [
    {
     "name": "stdout",
     "output_type": "stream",
     "text": [
      "f_sat =  0.19601096285\n"
     ]
    }
   ],
   "source": [
    "print 'f_sat = ', np.float(N_sat)/np.float(N_gal)"
   ]
  },
  {
   "cell_type": "markdown",
   "metadata": {},
   "source": [
    "Note that changing the PBC condition *enforce_PBC* option does _not_ change the $f_{sat}$ value. "
   ]
  },
  {
   "cell_type": "markdown",
   "metadata": {},
   "source": [
    "# Calculate $f_{sat}$ for MultiDark Subvolumes"
   ]
  },
  {
   "cell_type": "code",
   "execution_count": 8,
   "metadata": {
    "collapsed": true
   },
   "outputs": [],
   "source": [
    "sub_model = PrebuiltHodModelFactory('zheng07', threshold=-21)\n",
    "sub_model.new_haloprop_func_dict = {'sim_subvol': util.mk_id_column}\n",
    "sub_halocat = CachedHaloCatalog(simname = 'multidark', redshift = 0, halo_finder = 'rockstar')"
   ]
  },
  {
   "cell_type": "code",
   "execution_count": 12,
   "metadata": {
    "collapsed": false
   },
   "outputs": [
    {
     "name": "stdout",
     "output_type": "stream",
     "text": [
      "f_sat =  0.193605683837\n",
      "f_sat =  0.197640117994\n",
      "f_sat =  0.215766572818\n",
      "f_sat =  0.197692547552\n",
      "f_sat =  0.191043908113\n",
      "f_sat =  0.195686556434\n",
      "f_sat =  0.180606838979\n",
      "f_sat =  0.208470290771\n",
      "f_sat =  0.193892250072\n",
      "f_sat =  0.193915801615\n"
     ]
    }
   ],
   "source": [
    "for rint in range(10): \n",
    "    simsubvol = lambda x: util.mask_func(x, rint)\n",
    "    sub_model.populate_mock(sub_halocat, masking_function=simsubvol, enforce_PBC=False)\n",
    "    \n",
    "    sub_N_sat = len(np.where(sub_model.mock.galaxy_table['gal_type'] == 'satellites')[0])\n",
    "    sub_N_gal = len(sub_model.mock.galaxy_table['gal_type'])\n",
    "    \n",
    "    print 'f_sat = ', np.float(sub_N_sat)/np.float(sub_N_gal)"
   ]
  },
  {
   "cell_type": "markdown",
   "metadata": {},
   "source": [
    "## Consistent with the entire volume $f_{sat}$"
   ]
  }
 ],
 "metadata": {
  "kernelspec": {
   "display_name": "Python 2",
   "language": "python",
   "name": "python2"
  },
  "language_info": {
   "codemirror_mode": {
    "name": "ipython",
    "version": 2
   },
   "file_extension": ".py",
   "mimetype": "text/x-python",
   "name": "python",
   "nbconvert_exporter": "python",
   "pygments_lexer": "ipython2",
   "version": "2.7.11"
  }
 },
 "nbformat": 4,
 "nbformat_minor": 0
}
