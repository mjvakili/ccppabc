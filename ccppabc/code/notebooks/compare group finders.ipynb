{
 "cells": [
  {
   "cell_type": "code",
   "execution_count": 5,
   "metadata": {
    "collapsed": true
   },
   "outputs": [],
   "source": [
    "import time\n",
    "import pyfof\n",
    "from halotools.sim_manager import CachedHaloCatalog\n",
    "from halotools.empirical_models import PrebuiltHodModelFactory\n",
    "from halotools.empirical_models.factories.mock_helpers import three_dim_pos_bundle\n",
    "from halotools.mock_observables import groups\n",
    "apfof = groups.FoFGroups"
   ]
  },
  {
   "cell_type": "code",
   "execution_count": 6,
   "metadata": {
    "collapsed": true
   },
   "outputs": [],
   "source": [
    "# initialise halo catalogue and HOD\n",
    "halocat = CachedHaloCatalog(simname='bolshoi', redshift=0., halo_finder='rockstar')\n",
    "hodmod = PrebuiltHodModelFactory('zheng07', threshold=-21.)\n",
    "\n",
    "# linking length for group finders\n",
    "b_0 = 0.75"
   ]
  },
  {
   "cell_type": "code",
   "execution_count": 7,
   "metadata": {
    "collapsed": false
   },
   "outputs": [
    {
     "name": "stdout",
     "output_type": "stream",
     "text": [
      "group finder loop run  1\n",
      "...\n",
      "finished populating mock\n",
      "starting pyfof group finder...\n",
      "done\n",
      "starting halotools group finder...\n"
     ]
    },
    {
     "ename": "MemoryError",
     "evalue": "std::bad_alloc",
     "output_type": "error",
     "traceback": [
      "\u001b[1;31m---------------------------------------------------------------------------\u001b[0m",
      "\u001b[1;31mMemoryError\u001b[0m                               Traceback (most recent call last)",
      "\u001b[1;32m<ipython-input-7-4079f7d87efe>\u001b[0m in \u001b[0;36m<module>\u001b[1;34m()\u001b[0m\n\u001b[0;32m     21\u001b[0m     \u001b[1;32mprint\u001b[0m \u001b[1;34m\"starting halotools group finder...\"\u001b[0m\u001b[1;33m\u001b[0m\u001b[0m\n\u001b[0;32m     22\u001b[0m     \u001b[0mt1halo\u001b[0m \u001b[1;33m=\u001b[0m \u001b[0mtime\u001b[0m\u001b[1;33m.\u001b[0m\u001b[0mtime\u001b[0m\u001b[1;33m(\u001b[0m\u001b[1;33m)\u001b[0m\u001b[1;33m\u001b[0m\u001b[0m\n\u001b[1;32m---> 23\u001b[1;33m     \u001b[0mhalogrps\u001b[0m \u001b[1;33m=\u001b[0m \u001b[0mapfof\u001b[0m\u001b[1;33m(\u001b[0m\u001b[0mpos\u001b[0m\u001b[1;33m,\u001b[0m \u001b[0mb\u001b[0m\u001b[1;33m,\u001b[0m \u001b[0mb\u001b[0m\u001b[1;33m,\u001b[0m \u001b[0mLbox\u001b[0m\u001b[1;33m=\u001b[0m\u001b[1;33m[\u001b[0m\u001b[1;36m250\u001b[0m\u001b[1;33m,\u001b[0m\u001b[1;36m250\u001b[0m\u001b[1;33m,\u001b[0m\u001b[1;36m250\u001b[0m\u001b[1;33m]\u001b[0m\u001b[1;33m)\u001b[0m\u001b[1;33m\u001b[0m\u001b[0m\n\u001b[0m\u001b[0;32m     24\u001b[0m     \u001b[0mt2halo\u001b[0m \u001b[1;33m=\u001b[0m \u001b[0mtime\u001b[0m\u001b[1;33m.\u001b[0m\u001b[0mtime\u001b[0m\u001b[1;33m(\u001b[0m\u001b[1;33m)\u001b[0m\u001b[1;33m\u001b[0m\u001b[0m\n\u001b[0;32m     25\u001b[0m     \u001b[1;32mprint\u001b[0m \u001b[1;34m\"done\"\u001b[0m\u001b[1;33m\u001b[0m\u001b[0m\n",
      "\u001b[1;32m/home/kilian/.envs/astro2.7/lib/python2.7/site-packages/halotools/mock_observables/groups.pyc\u001b[0m in \u001b[0;36m__init__\u001b[1;34m(self, positions, b_perp, b_para, period, Lbox, num_threads)\u001b[0m\n\u001b[0;32m    126\u001b[0m         self.m_perp, self.m_para = xy_z_pair_matrix(\n\u001b[0;32m    127\u001b[0m             \u001b[0mself\u001b[0m\u001b[1;33m.\u001b[0m\u001b[0mpositions\u001b[0m\u001b[1;33m,\u001b[0m \u001b[0mself\u001b[0m\u001b[1;33m.\u001b[0m\u001b[0mpositions\u001b[0m\u001b[1;33m,\u001b[0m \u001b[0mself\u001b[0m\u001b[1;33m.\u001b[0m\u001b[0md_perp\u001b[0m\u001b[1;33m,\u001b[0m \u001b[0mself\u001b[0m\u001b[1;33m.\u001b[0m\u001b[0md_para\u001b[0m\u001b[1;33m,\u001b[0m\u001b[1;33m\u001b[0m\u001b[0m\n\u001b[1;32m--> 128\u001b[1;33m             period=self.period,num_threads=num_threads)\n\u001b[0m\u001b[0;32m    129\u001b[0m \u001b[1;33m\u001b[0m\u001b[0m\n\u001b[0;32m    130\u001b[0m         \u001b[0mself\u001b[0m\u001b[1;33m.\u001b[0m\u001b[0mm\u001b[0m \u001b[1;33m=\u001b[0m \u001b[0mself\u001b[0m\u001b[1;33m.\u001b[0m\u001b[0mm_perp\u001b[0m\u001b[1;33m.\u001b[0m\u001b[0mmultiply\u001b[0m\u001b[1;33m(\u001b[0m\u001b[0mself\u001b[0m\u001b[1;33m.\u001b[0m\u001b[0mm_perp\u001b[0m\u001b[1;33m)\u001b[0m\u001b[1;33m+\u001b[0m\u001b[0mself\u001b[0m\u001b[1;33m.\u001b[0m\u001b[0mm_para\u001b[0m\u001b[1;33m.\u001b[0m\u001b[0mmultiply\u001b[0m\u001b[1;33m(\u001b[0m\u001b[0mself\u001b[0m\u001b[1;33m.\u001b[0m\u001b[0mm_para\u001b[0m\u001b[1;33m)\u001b[0m\u001b[1;33m\u001b[0m\u001b[0m\n",
      "\u001b[1;32m/home/kilian/.envs/astro2.7/lib/python2.7/site-packages/halotools/mock_observables/pair_counters/double_tree_pair_matrix.pyc\u001b[0m in \u001b[0;36mxy_z_pair_matrix\u001b[1;34m(data1, data2, rp_max, pi_max, period, verbose, num_threads, approx_cell1_size, approx_cell2_size)\u001b[0m\n\u001b[0;32m    365\u001b[0m         \u001b[0mpool\u001b[0m\u001b[1;33m.\u001b[0m\u001b[0mclose\u001b[0m\u001b[1;33m(\u001b[0m\u001b[1;33m)\u001b[0m\u001b[1;33m\u001b[0m\u001b[0m\n\u001b[0;32m    366\u001b[0m     \u001b[1;32mif\u001b[0m \u001b[0mnum_threads\u001b[0m\u001b[1;33m==\u001b[0m\u001b[1;36m1\u001b[0m\u001b[1;33m:\u001b[0m\u001b[1;33m\u001b[0m\u001b[0m\n\u001b[1;32m--> 367\u001b[1;33m         \u001b[0mresult\u001b[0m \u001b[1;33m=\u001b[0m \u001b[0mlist\u001b[0m\u001b[1;33m(\u001b[0m\u001b[0mmap\u001b[0m\u001b[1;33m(\u001b[0m\u001b[0mengine\u001b[0m\u001b[1;33m,\u001b[0m\u001b[0mlist\u001b[0m\u001b[1;33m(\u001b[0m\u001b[0mrange\u001b[0m\u001b[1;33m(\u001b[0m\u001b[0mNcell1\u001b[0m\u001b[1;33m)\u001b[0m\u001b[1;33m)\u001b[0m\u001b[1;33m)\u001b[0m\u001b[1;33m)\u001b[0m\u001b[1;33m\u001b[0m\u001b[0m\n\u001b[0m\u001b[0;32m    368\u001b[0m \u001b[1;33m\u001b[0m\u001b[0m\n\u001b[0;32m    369\u001b[0m     \u001b[1;31m#arrays to store result\u001b[0m\u001b[1;33m\u001b[0m\u001b[1;33m\u001b[0m\u001b[0m\n",
      "\u001b[1;32m/home/kilian/.envs/astro2.7/lib/python2.7/site-packages/halotools/mock_observables/pair_counters/double_tree_pair_matrix.pyc\u001b[0m in \u001b[0;36m_xy_z_pair_matrix_engine\u001b[1;34m(double_tree, rp_max, pi_max, period, PBCs, icell1)\u001b[0m\n\u001b[0;32m    429\u001b[0m             \u001b[0mx_icell1\u001b[0m\u001b[1;33m,\u001b[0m \u001b[0my_icell1\u001b[0m\u001b[1;33m,\u001b[0m \u001b[0mz_icell1\u001b[0m\u001b[1;33m,\u001b[0m\u001b[1;33m\u001b[0m\u001b[0m\n\u001b[0;32m    430\u001b[0m             \u001b[0mx_icell2\u001b[0m\u001b[1;33m,\u001b[0m \u001b[0my_icell2\u001b[0m\u001b[1;33m,\u001b[0m \u001b[0mz_icell2\u001b[0m\u001b[1;33m,\u001b[0m\u001b[1;33m\u001b[0m\u001b[0m\n\u001b[1;32m--> 431\u001b[1;33m             rp_max, pi_max)\n\u001b[0m\u001b[0;32m    432\u001b[0m \u001b[1;33m\u001b[0m\u001b[0m\n\u001b[0;32m    433\u001b[0m         \u001b[0mii_inds\u001b[0m \u001b[1;33m=\u001b[0m \u001b[0mii_inds\u001b[0m\u001b[1;33m+\u001b[0m\u001b[0mi_min\u001b[0m\u001b[1;33m\u001b[0m\u001b[0m\n",
      "\u001b[1;32mhalotools/mock_observables/pair_counters/cpairs/pairwise_distances.pyx\u001b[0m in \u001b[0;36mhalotools.mock_observables.pair_counters.cpairs.pairwise_distances.pairwise_xy_z_distance_no_pbc (halotools/mock_observables/pair_counters/cpairs/pairwise_distances.cpp:3069)\u001b[1;34m()\u001b[0m\n",
      "\u001b[1;31mMemoryError\u001b[0m: std::bad_alloc"
     ]
    }
   ],
   "source": [
    "outpyfof = []\n",
    "outhalo = []\n",
    "\n",
    "# now set up a loop to run the group finder a few times\n",
    "for i in range(1):\n",
    "    print \"group finder loop run \", i + 1\n",
    "    print \"...\"\n",
    "    hodmod.populate_mock(halocat)\n",
    "    print \"finished populating mock\"\n",
    "    pos =three_dim_pos_bundle(hodmod.mock.galaxy_table, 'x', 'y', 'z')\n",
    "    nbar = len(pos) / 1000**3.\n",
    "    b = b_0 * (nbar) ** (-1. / 3)\n",
    "    \n",
    "    print \"starting pyfof group finder...\"\n",
    "    t1pyfof = time.time()\n",
    "    pyfofgrps = pyfof.friends_of_friends(pos , b)\n",
    "    t2pyfof = time.time()\n",
    "    print \"done\"\n",
    "    outpyfof.append((pyfofgrps, t2pyfof - t1pyfof))\n",
    "    \n",
    "    print \"starting halotools group finder...\"\n",
    "    t1halo = time.time()\n",
    "    halogrps = apfof(pos, b, b, Lbox=[250,250,250])\n",
    "    t2halo = time.time()\n",
    "    print \"done\"\n",
    "    outhalo.append((halogrps, t2halo - t1halo))\n"
   ]
  },
  {
   "cell_type": "code",
   "execution_count": null,
   "metadata": {
    "collapsed": true
   },
   "outputs": [],
   "source": [
    "\n",
    "\n"
   ]
  }
 ],
 "metadata": {
  "kernelspec": {
   "display_name": "Python 2",
   "language": "python",
   "name": "python2"
  },
  "language_info": {
   "codemirror_mode": {
    "name": "ipython",
    "version": 2
   },
   "file_extension": ".py",
   "mimetype": "text/x-python",
   "name": "python",
   "nbconvert_exporter": "python",
   "pygments_lexer": "ipython2",
   "version": "2.7.11"
  }
 },
 "nbformat": 4,
 "nbformat_minor": 0
}
